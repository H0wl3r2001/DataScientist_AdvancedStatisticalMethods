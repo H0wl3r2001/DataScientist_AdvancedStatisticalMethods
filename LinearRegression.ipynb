{
 "cells": [
  {
   "cell_type": "markdown",
   "id": "f1f779d8",
   "metadata": {},
   "source": [
    "# Linear Regression\n",
    "\n",
    "Linear regression is one of the most fundamental and widely used statistical techniques in data science. It models the relationship between a dependent variable and one or more independent variables by fitting a linear equation to observed data. We will explore the simple version on this notebook.\n",
    "\n",
    "Furthermore, we will dive into concepts such as:\n",
    "\n",
    "- The mathematical foundations of linear regression\n",
    "- How to implement it using statsmodels\n",
    "- Interpretation of results\n",
    "- Key concepts like OLS, R-squared, and variability decomposition\n",
    "- Practical applications with real-world datasets"
   ]
  },
  {
   "cell_type": "markdown",
   "id": "d9ebead2",
   "metadata": {},
   "source": [
    "## Index\n",
    "\n",
    "\n",
    "**Libraries used:**"
   ]
  },
  {
   "cell_type": "code",
   "execution_count": 2,
   "id": "4d1c134a",
   "metadata": {},
   "outputs": [],
   "source": [
    "import numpy as np\n",
    "import matplotlib.pyplot as plt\n",
    "import seaborn as sns\n",
    "import statsmodels.api as sm\n",
    "from statsmodels.formula.api import ols\n",
    "from sklearn.datasets import fetch_california_housing\n",
    "import pandas as pd\n",
    "from statsmodels.stats.diagnostic import het_breuschpagan\n",
    "from statsmodels.stats.outliers_influence import variance_inflation_factor"
   ]
  },
  {
   "cell_type": "markdown",
   "id": "4457f636",
   "metadata": {},
   "source": [
    "## The Linear Regression Model"
   ]
  }
 ],
 "metadata": {
  "kernelspec": {
   "display_name": "eda_env",
   "language": "python",
   "name": "python3"
  },
  "language_info": {
   "codemirror_mode": {
    "name": "ipython",
    "version": 3
   },
   "file_extension": ".py",
   "mimetype": "text/x-python",
   "name": "python",
   "nbconvert_exporter": "python",
   "pygments_lexer": "ipython3",
   "version": "3.11.11"
  }
 },
 "nbformat": 4,
 "nbformat_minor": 5
}
