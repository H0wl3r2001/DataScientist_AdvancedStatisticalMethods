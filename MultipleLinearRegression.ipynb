{
 "cells": [
  {
   "cell_type": "markdown",
   "id": "44645ebd",
   "metadata": {},
   "source": [
    "# Multiple Linear Regression\n",
    "\n",
    "Multiple Linear Regression (MLR) is a fundamental statistical method in Data Science used to model the relationship between a dependent variable (target) and multiple independent variables (features). Unlike Simple Linear Regression, MLR allows us to account for multiple predictors simultaneously, making it more powerful for real-world datasets where multiple factors influence the outcome. \n",
    "\n",
    "Since in the [Linear Regression](LinearRegression.ipynb) notebook we covered the more basic concepts, here we will delve into sconcepts such as the changed key metrics (such as Adjusted R-quared), testing the significance of the model, OLS Assumptions and Dummy Variables.\n",
    "\n",
    "## Index\n"
   ]
  }
 ],
 "metadata": {
  "language_info": {
   "name": "python"
  }
 },
 "nbformat": 4,
 "nbformat_minor": 5
}
